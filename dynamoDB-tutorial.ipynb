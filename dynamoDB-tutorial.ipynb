{
 "cells": [
  {
   "cell_type": "code",
   "execution_count": 15,
   "metadata": {
    "collapsed": true
   },
   "outputs": [],
   "source": [
    "import boto3\n",
    "import json\n",
    "import decimal\n",
    "\n",
    "from boto3.dynamodb.conditions import Key, Attr\n",
    "from botocore.exceptions import ClientError"
   ]
  },
  {
   "cell_type": "code",
   "execution_count": 2,
   "metadata": {
    "collapsed": true
   },
   "outputs": [],
   "source": [
    "# Get the service resource.\n",
    "dynamodb = boto3.resource(\n",
    "    'dynamodb'\n",
    "    , aws_access_key_id='123'\n",
    "    , aws_secret_access_key='123'\n",
    "    , region_name='eu-west-1'\n",
    "    , endpoint_url=\"http://192.168.99.100:8000\"\n",
    ")"
   ]
  },
  {
   "cell_type": "markdown",
   "metadata": {},
   "source": [
    "## Step 1: Create a Table"
   ]
  },
  {
   "cell_type": "code",
   "execution_count": 9,
   "metadata": {
    "collapsed": false
   },
   "outputs": [
    {
     "name": "stdout",
     "output_type": "stream",
     "text": [
      "Item count: 0\n"
     ]
    }
   ],
   "source": [
    "table = dynamodb.create_table(\n",
    "    TableName='Movies',\n",
    "    AttributeDefinitions=[\n",
    "        {\n",
    "            'AttributeName': 'year',\n",
    "            'AttributeType': 'N'\n",
    "        },\n",
    "        {\n",
    "            'AttributeName': 'title',\n",
    "            'AttributeType': 'S'\n",
    "        },\n",
    "\n",
    "    ],\n",
    "    KeySchema=[\n",
    "        {\n",
    "            'AttributeName': 'year',\n",
    "            'KeyType': 'HASH'  # Partition key\n",
    "        },\n",
    "        {\n",
    "            'AttributeName': 'title',\n",
    "            'KeyType': 'RANGE'  # Sort key\n",
    "        }\n",
    "    ],\n",
    "    ProvisionedThroughput={\n",
    "        'ReadCapacityUnits': 10,\n",
    "        'WriteCapacityUnits': 10\n",
    "    }\n",
    ")\n",
    "\n",
    "table.meta.client.get_waiter('table_exists').wait(TableName='Movies')\n",
    "print('Item count:', table.item_count)"
   ]
  },
  {
   "cell_type": "markdown",
   "metadata": {},
   "source": [
    "## Step 2: Load Sample Data"
   ]
  },
  {
   "cell_type": "code",
   "execution_count": 10,
   "metadata": {
    "collapsed": false
   },
   "outputs": [
    {
     "name": "stdout",
     "output_type": "stream",
     "text": [
      "Item count: 4609\n"
     ]
    }
   ],
   "source": [
    "\"\"\"\n",
    "moviedata.json\n",
    "\n",
    "[\n",
    "    {\n",
    "      \"year\" : ... ,\n",
    "      \"title\" : ... ,\n",
    "      \"info\" : { ... }\n",
    "    },\n",
    "    {\n",
    "      \"year\" : ...,\n",
    "      \"title\" : ...,\n",
    "      \"info\" : { ... }\n",
    "    },\n",
    "\n",
    "    ...\n",
    "]\n",
    "\"\"\"\n",
    "\n",
    "with open(\"data/moviedata.json\") as json_file:\n",
    "    movies = json.load(json_file, parse_float = decimal.Decimal)\n",
    "    for movie in movies:\n",
    "        year = int(movie['year'])\n",
    "        title = movie['title']\n",
    "        info = movie['info']\n",
    "\n",
    "        table.put_item(\n",
    "           Item={\n",
    "               'year': year,\n",
    "               'title': title,\n",
    "               'info': info,\n",
    "            }\n",
    "        )\n",
    "        \n",
    "print('Item count:', table.item_count)"
   ]
  },
  {
   "cell_type": "markdown",
   "metadata": {},
   "source": [
    "## Step 3: Put, Update, and Delete an Item"
   ]
  },
  {
   "cell_type": "code",
   "execution_count": 11,
   "metadata": {
    "collapsed": true
   },
   "outputs": [],
   "source": [
    "# Helper class to convert a DynamoDB item to JSON\n",
    "\n",
    "# The DecimalEncoder class is used to print out numbers stored using the Decimal class.\n",
    "# The Boto SDK uses the Decimal class to hold DynamoDB number values.\n",
    "class DecimalEncoder(json.JSONEncoder):\n",
    "\n",
    "    def default(self, o):\n",
    "        if isinstance(o, decimal.Decimal):\n",
    "            if o % 1 > 0:\n",
    "                return float(o)\n",
    "            else:\n",
    "                return int(o)\n",
    "        return super(DecimalEncoder, self).default(o)"
   ]
  },
  {
   "cell_type": "code",
   "execution_count": null,
   "metadata": {
    "collapsed": true
   },
   "outputs": [],
   "source": [
    "table = dynamodb.Table('Movies')"
   ]
  },
  {
   "cell_type": "markdown",
   "metadata": {},
   "source": [
    "### Step 3.1: Add a New Item"
   ]
  },
  {
   "cell_type": "code",
   "execution_count": 13,
   "metadata": {
    "collapsed": true
   },
   "outputs": [],
   "source": [
    "title = \"The Big New Movie\"\n",
    "year = 2015"
   ]
  },
  {
   "cell_type": "code",
   "execution_count": 32,
   "metadata": {
    "collapsed": false
   },
   "outputs": [
    {
     "name": "stdout",
     "output_type": "stream",
     "text": [
      "{\n",
      "    \"ResponseMetadata\": {\n",
      "        \"RequestId\": \"73e1c535-2ae2-4854-9792-c312b70e1187\",\n",
      "        \"HTTPStatusCode\": 200\n",
      "    }\n",
      "}\n"
     ]
    }
   ],
   "source": [
    "response = table.put_item(\n",
    "   Item={\n",
    "        'year': year,\n",
    "        'title': title,\n",
    "        'info': {\n",
    "            'plot':'Something happens.'\n",
    "        }\n",
    "    }\n",
    ")\n",
    "\n",
    "print(json.dumps(response, indent=4, cls=DecimalEncoder))"
   ]
  },
  {
   "cell_type": "markdown",
   "metadata": {},
   "source": [
    "#### Adding an Item conditionally\n",
    "By default, the `put_item` method replaces any existing item with a new item. You can use a `ConditionExpression` parameter to avoid overwriting an existing item that has the same primary key."
   ]
  },
  {
   "cell_type": "code",
   "execution_count": 33,
   "metadata": {
    "collapsed": false
   },
   "outputs": [
    {
     "name": "stdout",
     "output_type": "stream",
     "text": [
      "The conditional request failed\n",
      "{\n",
      "    \"title\": \"The Big New Movie\",\n",
      "    \"year\": 2015,\n",
      "    \"info\": {\n",
      "        \"plot\": \"Something happens.\"\n",
      "    }\n",
      "}\n"
     ]
    }
   ],
   "source": [
    "try:\n",
    "    table.put_item(\n",
    "        Item={\n",
    "            'year': year,\n",
    "            'title': title,\n",
    "            'info':{\n",
    "                'plot':\"Nothing happens at all.\",\n",
    "                'rating': decimal.Decimal(0)\n",
    "            }\n",
    "        },\n",
    "        ConditionExpression=Attr(\"year\").ne(year) & Attr(\"title\").ne(title)\n",
    "    )\n",
    "except ClientError as e:\n",
    "    if e.response['Error']['Code'] == \"ConditionalCheckFailedException\":\n",
    "        print(e.response['Error']['Message'])\n",
    "    else:\n",
    "        raise\n",
    "else:\n",
    "    print(\"PutItem succeeded:\")\n",
    "\n",
    "response = table.get_item(\n",
    "    Key={\n",
    "        'year': year,\n",
    "        'title': title\n",
    "    }\n",
    ")\n",
    "item = response['Item']\n",
    "\n",
    "print(json.dumps(item, indent=4, cls=DecimalEncoder))"
   ]
  },
  {
   "cell_type": "markdown",
   "metadata": {},
   "source": [
    "Now remove the condition..."
   ]
  },
  {
   "cell_type": "code",
   "execution_count": 34,
   "metadata": {
    "collapsed": false
   },
   "outputs": [
    {
     "name": "stdout",
     "output_type": "stream",
     "text": [
      "PutItem succeeded:\n",
      "{\n",
      "    \"title\": \"The Big New Movie\",\n",
      "    \"year\": 2015,\n",
      "    \"info\": {\n",
      "        \"rating\": 0,\n",
      "        \"plot\": \"Nothing happens at all.\"\n",
      "    }\n",
      "}\n"
     ]
    }
   ],
   "source": [
    "response = table.put_item(\n",
    "    Item={\n",
    "        'year': year,\n",
    "        'title': title,\n",
    "        'info':{\n",
    "            'plot':\"Nothing happens at all.\",\n",
    "            'rating': decimal.Decimal(0)\n",
    "        }\n",
    "    }\n",
    ")\n",
    "\n",
    "response = table.get_item(\n",
    "    Key={\n",
    "        'year': year,\n",
    "        'title': title\n",
    "    }\n",
    ")\n",
    "item = response['Item']\n",
    "\n",
    "print(\"PutItem succeeded:\")\n",
    "print(json.dumps(item, indent=4, cls=DecimalEncoder))"
   ]
  },
  {
   "cell_type": "markdown",
   "metadata": {},
   "source": [
    "### Step 3.2: Update an Item\n",
    "\n",
    "You can update:\n",
    "* values of existing attributes\n",
    "* add new attributes\n",
    "* remove attributes"
   ]
  },
  {
   "cell_type": "markdown",
   "metadata": {},
   "source": [
    "#### Change the value of the existing attribute"
   ]
  },
  {
   "cell_type": "code",
   "execution_count": 35,
   "metadata": {
    "collapsed": false
   },
   "outputs": [
    {
     "name": "stdout",
     "output_type": "stream",
     "text": [
      "UpdateItem succeeded:\n",
      "{\n",
      "    \"ResponseMetadata\": {\n",
      "        \"RequestId\": \"56d49ae6-534a-4883-850b-53513743e201\",\n",
      "        \"HTTPStatusCode\": 200\n",
      "    },\n",
      "    \"Attributes\": {\n",
      "        \"info\": {\n",
      "            \"rating\": 5.5,\n",
      "            \"plot\": \"Everything happens all at once.\",\n",
      "            \"actors\": [\n",
      "                \"Larry\",\n",
      "                \"Moe\",\n",
      "                \"Curly\"\n",
      "            ]\n",
      "        }\n",
      "    }\n",
      "}\n"
     ]
    }
   ],
   "source": [
    "response = table.update_item(\n",
    "    Key={\n",
    "        'year': year,\n",
    "        'title': title\n",
    "    },\n",
    "    UpdateExpression=\"SET info.rating=:r, info.plot=:p, info.actors=:a\",\n",
    "    ExpressionAttributeValues={\n",
    "        ':r': decimal.Decimal(5.5),\n",
    "        ':p': \"Everything happens all at once.\",\n",
    "        ':a': [\"Larry\", \"Moe\", \"Curly\"]\n",
    "    },\n",
    "    ReturnValues=\"UPDATED_NEW\"  # the new versions of only the updated attributes are returned\n",
    ")\n",
    "\n",
    "print(\"UpdateItem succeeded:\")\n",
    "print(json.dumps(response, indent=4, cls=DecimalEncoder))"
   ]
  },
  {
   "cell_type": "markdown",
   "metadata": {},
   "source": [
    "#### Increment an Atomic Counter"
   ]
  },
  {
   "cell_type": "code",
   "execution_count": 36,
   "metadata": {
    "collapsed": false
   },
   "outputs": [
    {
     "name": "stdout",
     "output_type": "stream",
     "text": [
      "UpdateItem succeeded:\n",
      "{\n",
      "    \"ResponseMetadata\": {\n",
      "        \"RequestId\": \"e2937347-1352-4af0-add6-877fc1b8ee76\",\n",
      "        \"HTTPStatusCode\": 200\n",
      "    },\n",
      "    \"Attributes\": {\n",
      "        \"info\": {\n",
      "            \"rating\": 6.5,\n",
      "            \"plot\": \"Everything happens all at once.\",\n",
      "            \"actors\": [\n",
      "                \"Larry\",\n",
      "                \"Moe\",\n",
      "                \"Curly\"\n",
      "            ]\n",
      "        }\n",
      "    }\n",
      "}\n"
     ]
    }
   ],
   "source": [
    "response = table.update_item(\n",
    "    Key={\n",
    "        'year': year,\n",
    "        'title': title\n",
    "    },\n",
    "    UpdateExpression=\"SET info.rating = info.rating + :val\",\n",
    "    ExpressionAttributeValues={\n",
    "        ':val': decimal.Decimal(1)\n",
    "    },\n",
    "    ReturnValues=\"UPDATED_NEW\"\n",
    ")\n",
    "\n",
    "print(\"UpdateItem succeeded:\")\n",
    "print(json.dumps(response, indent=4, cls=DecimalEncoder))"
   ]
  },
  {
   "cell_type": "code",
   "execution_count": 37,
   "metadata": {
    "collapsed": false
   },
   "outputs": [
    {
     "name": "stdout",
     "output_type": "stream",
     "text": [
      "UpdateItem succeeded:\n",
      "{\n",
      "    \"ResponseMetadata\": {\n",
      "        \"RequestId\": \"848d04f7-ad62-4bfa-b653-648deb0154fd\",\n",
      "        \"HTTPStatusCode\": 200\n",
      "    },\n",
      "    \"Attributes\": {\n",
      "        \"info\": {\n",
      "            \"rating\": 7.5,\n",
      "            \"plot\": \"Everything happens all at once.\",\n",
      "            \"actors\": [\n",
      "                \"Larry\",\n",
      "                \"Moe\",\n",
      "                \"Curly\"\n",
      "            ]\n",
      "        }\n",
      "    }\n",
      "}\n"
     ]
    }
   ],
   "source": [
    "response = table.update_item(\n",
    "    Key={\n",
    "        'year': year,\n",
    "        'title': title\n",
    "    },\n",
    "    UpdateExpression=\"SET info.rating = info.rating + :val\",\n",
    "    ExpressionAttributeValues={\n",
    "        ':val': decimal.Decimal(1)\n",
    "    },\n",
    "    ReturnValues=\"UPDATED_NEW\"\n",
    ")\n",
    "\n",
    "print(\"UpdateItem succeeded:\")\n",
    "print(json.dumps(response, indent=4, cls=DecimalEncoder))"
   ]
  },
  {
   "cell_type": "markdown",
   "metadata": {},
   "source": [
    "#### Conditionally Update an Item"
   ]
  },
  {
   "cell_type": "code",
   "execution_count": 25,
   "metadata": {
    "collapsed": false
   },
   "outputs": [
    {
     "name": "stdout",
     "output_type": "stream",
     "text": [
      "{\n",
      "    \"title\": \"The Big New Movie\",\n",
      "    \"year\": 2015,\n",
      "    \"info\": {\n",
      "        \"rating\": 7.5,\n",
      "        \"plot\": \"Everything happens all at once.\",\n",
      "        \"actors\": [\n",
      "            \"Larry\",\n",
      "            \"Moe\",\n",
      "            \"Curly\"\n",
      "        ]\n",
      "    }\n",
      "}\n"
     ]
    }
   ],
   "source": [
    "response = table.get_item(\n",
    "    Key={\n",
    "        'year': year,\n",
    "        'title': title\n",
    "    }\n",
    ")\n",
    "item = response['Item']\n",
    "\n",
    "print(json.dumps(item, indent=4, cls=DecimalEncoder))"
   ]
  },
  {
   "cell_type": "code",
   "execution_count": 38,
   "metadata": {
    "collapsed": false
   },
   "outputs": [
    {
     "name": "stdout",
     "output_type": "stream",
     "text": [
      "Attempting conditional update...\n",
      "The conditional request failed\n"
     ]
    }
   ],
   "source": [
    "# Conditional update (will fail)\n",
    "print(\"Attempting conditional update...\")\n",
    "\n",
    "try:\n",
    "    response = table.update_item(\n",
    "        Key={\n",
    "            'year': year,\n",
    "            'title': title\n",
    "        },\n",
    "        UpdateExpression=\"REMOVE info.actors[0]\",\n",
    "        ConditionExpression=\"size(info.actors) > :num\",\n",
    "        ExpressionAttributeValues={\n",
    "            ':num': 3\n",
    "        },\n",
    "        ReturnValues=\"UPDATED_NEW\"\n",
    "    )\n",
    "except ClientError as e:\n",
    "    if e.response['Error']['Code'] == \"ConditionalCheckFailedException\":\n",
    "        print(e.response['Error']['Message'])\n",
    "    else:\n",
    "        raise\n",
    "else:\n",
    "    print(\"UpdateItem succeeded:\")\n",
    "    print(json.dumps(response, indent=4, cls=DecimalEncoder))"
   ]
  },
  {
   "cell_type": "markdown",
   "metadata": {},
   "source": [
    "Modify the code above so that the ConditionExpression looks like this:\n",
    "\n",
    "`ConditionExpression=\"size(info.actors) >= :num\",`"
   ]
  },
  {
   "cell_type": "code",
   "execution_count": 39,
   "metadata": {
    "collapsed": false
   },
   "outputs": [
    {
     "name": "stdout",
     "output_type": "stream",
     "text": [
      "Attempting conditional update...\n",
      "UpdateItem succeeded:\n",
      "{\n",
      "    \"ResponseMetadata\": {\n",
      "        \"RequestId\": \"7e56f7c9-2ffc-44e6-a4a9-e6df1460b34d\",\n",
      "        \"HTTPStatusCode\": 200\n",
      "    },\n",
      "    \"Attributes\": {\n",
      "        \"info\": {\n",
      "            \"rating\": 7.5,\n",
      "            \"plot\": \"Everything happens all at once.\",\n",
      "            \"actors\": [\n",
      "                \"Moe\",\n",
      "                \"Curly\"\n",
      "            ]\n",
      "        }\n",
      "    }\n",
      "}\n"
     ]
    }
   ],
   "source": [
    "print(\"Attempting conditional update...\")\n",
    "\n",
    "try:\n",
    "    response = table.update_item(\n",
    "        Key={\n",
    "            'year': year,\n",
    "            'title': title\n",
    "        },\n",
    "        UpdateExpression=\"REMOVE info.actors[0]\",\n",
    "        ConditionExpression=\"size(info.actors) >= :num\",\n",
    "        ExpressionAttributeValues={\n",
    "            ':num': 3\n",
    "        },\n",
    "        ReturnValues=\"UPDATED_NEW\"\n",
    "    )\n",
    "except ClientError as e:\n",
    "    if e.response['Error']['Code'] == \"ConditionalCheckFailedException\":\n",
    "        print(e.response['Error']['Message'])\n",
    "    else:\n",
    "        raise\n",
    "else:\n",
    "    print(\"UpdateItem succeeded:\")\n",
    "    print(json.dumps(response, indent=4, cls=DecimalEncoder))"
   ]
  },
  {
   "cell_type": "markdown",
   "metadata": {},
   "source": [
    "### Step 3.3: Delete an Item"
   ]
  },
  {
   "cell_type": "code",
   "execution_count": 29,
   "metadata": {
    "collapsed": false
   },
   "outputs": [
    {
     "name": "stdout",
     "output_type": "stream",
     "text": [
      "{\n",
      "    \"title\": \"The Big New Movie\",\n",
      "    \"year\": 2015,\n",
      "    \"info\": {\n",
      "        \"rating\": 7.5,\n",
      "        \"plot\": \"Everything happens all at once.\",\n",
      "        \"actors\": [\n",
      "            \"Moe\",\n",
      "            \"Curly\"\n",
      "        ]\n",
      "    }\n",
      "}\n"
     ]
    }
   ],
   "source": [
    "response = table.get_item(\n",
    "    Key={\n",
    "        'year': year,\n",
    "        'title': title\n",
    "    }\n",
    ")\n",
    "item = response['Item']\n",
    "\n",
    "print(json.dumps(item, indent=4, cls=DecimalEncoder))"
   ]
  },
  {
   "cell_type": "markdown",
   "metadata": {},
   "source": [
    "Try to delete a specific movie item if its rating is 5 or less."
   ]
  },
  {
   "cell_type": "code",
   "execution_count": 40,
   "metadata": {
    "collapsed": false
   },
   "outputs": [
    {
     "name": "stdout",
     "output_type": "stream",
     "text": [
      "Attempting a conditional delete...\n",
      "The conditional request failed\n"
     ]
    }
   ],
   "source": [
    "print(\"Attempting a conditional delete...\")\n",
    "\n",
    "try:\n",
    "    response = table.delete_item(\n",
    "        Key={\n",
    "            'year': year,\n",
    "            'title': title\n",
    "        },\n",
    "        ConditionExpression=\"info.rating <= :val\",\n",
    "        ExpressionAttributeValues= {\n",
    "            \":val\": decimal.Decimal(5)\n",
    "        }\n",
    "    )\n",
    "except ClientError as e:\n",
    "    if e.response['Error']['Code'] == \"ConditionalCheckFailedException\":\n",
    "        print(e.response['Error']['Message'])\n",
    "    else:\n",
    "        raise\n",
    "else:\n",
    "    print(\"DeleteItem succeeded:\")\n",
    "    print(json.dumps(response, indent=4, cls=DecimalEncoder))"
   ]
  },
  {
   "cell_type": "markdown",
   "metadata": {},
   "source": [
    "Remove the condition..."
   ]
  },
  {
   "cell_type": "code",
   "execution_count": 41,
   "metadata": {
    "collapsed": false
   },
   "outputs": [
    {
     "name": "stdout",
     "output_type": "stream",
     "text": [
      "DeleteItem succeeded:\n",
      "{\n",
      "    \"ResponseMetadata\": {\n",
      "        \"RequestId\": \"05a272ca-8b2c-4c10-b317-75bfd9d7b289\",\n",
      "        \"HTTPStatusCode\": 200\n",
      "    }\n",
      "}\n"
     ]
    }
   ],
   "source": [
    "response = table.delete_item(\n",
    "    Key={\n",
    "        'year': year,\n",
    "        'title': title\n",
    "    }\n",
    ")\n",
    "\n",
    "print(\"DeleteItem succeeded:\")\n",
    "print(json.dumps(response, indent=4, cls=DecimalEncoder))"
   ]
  },
  {
   "cell_type": "markdown",
   "metadata": {},
   "source": [
    "## Step 4: Query and Scan the Data"
   ]
  },
  {
   "cell_type": "markdown",
   "metadata": {},
   "source": [
    "* [`query`](http://boto3.readthedocs.org/en/latest/reference/services/dynamodb.html#DynamoDB.Table.query) retrieves data from a table\n",
    "* [`scan`](http://boto3.readthedocs.org/en/latest/reference/services/dynamodb.html#DynamoDB.Table.scan) retrieves all of the table data"
   ]
  },
  {
   "cell_type": "markdown",
   "metadata": {},
   "source": [
    "### Step 4.1: Query"
   ]
  },
  {
   "cell_type": "markdown",
   "metadata": {},
   "source": [
    "Find all movies released in the `year` 1985."
   ]
  },
  {
   "cell_type": "code",
   "execution_count": 51,
   "metadata": {
    "collapsed": false
   },
   "outputs": [
    {
     "name": "stdout",
     "output_type": "stream",
     "text": [
      "Movies from 1985\n",
      "Number of movies found: 45\n",
      "\n",
      "The first 5 results:\n",
      "1985 : A Nightmare on Elm Street Part 2: Freddy's Revenge\n",
      "1985 : A Room with a View\n",
      "1985 : A View to a Kill\n",
      "1985 : After Hours\n",
      "1985 : Back to the Future\n"
     ]
    }
   ],
   "source": [
    "print(\"Movies from 1985\")\n",
    "\n",
    "response = table.query(\n",
    "    KeyConditionExpression=Key('year').eq(1985)\n",
    ")\n",
    "\n",
    "print('Number of movies found:', response['Count'], end='\\n'*2)\n",
    "print('The first 5 results:', end='\\n')\n",
    "\n",
    "for i in response['Items'][:5]:\n",
    "    print(i['year'], \":\", i['title'])"
   ]
  },
  {
   "cell_type": "code",
   "execution_count": 46,
   "metadata": {
    "collapsed": false
   },
   "outputs": [
    {
     "data": {
      "text/plain": [
       "dict_keys(['Count', 'ScannedCount', 'Items', 'ResponseMetadata'])"
      ]
     },
     "execution_count": 46,
     "metadata": {},
     "output_type": "execute_result"
    }
   ],
   "source": [
    "response.keys()"
   ]
  },
  {
   "cell_type": "markdown",
   "metadata": {},
   "source": [
    "**Note**\n",
    "\n",
    "The Boto 3 SDK constructs a [Condition Expression](http://boto3.readthedocs.org/en/latest/reference/customizations/dynamodb.html#dynamodb-conditions) for you when you use the `Key` and `Attr` functions imported from `boto3.dynamodb.conditions`. You can also specify a Condition Expression as a string.\n",
    "\n",
    "More information about [Condition Expressions](http://docs.aws.amazon.com/amazondynamodb/latest/developerguide/Expressions.SpecifyingConditions.html#Expressions.SpecifyingConditions.ConditionExpressions).\n",
    "\n",
    "In DynamoDB, you can optionally create one or more [**secondary indexes**](http://docs.aws.amazon.com/amazondynamodb/latest/developerguide/SecondaryIndexes.html) on a table, and query those indexes in the same way that you query a table. Secondary indexes give your applications additional flexibility by allowing queries on non-key attributes."
   ]
  },
  {
   "cell_type": "markdown",
   "metadata": {},
   "source": [
    "Find all movies in `year` 1992, with `title` beginning with the letter 'A' through the letter 'L'."
   ]
  },
  {
   "cell_type": "code",
   "execution_count": 60,
   "metadata": {
    "collapsed": false
   },
   "outputs": [
    {
     "name": "stdout",
     "output_type": "stream",
     "text": [
      "Items found: 28\n",
      "\n",
      "{\n",
      "    \"title\": \"A Few Good Men\",\n",
      "    \"year\": 1992,\n",
      "    \"info\": {\n",
      "        \"genres\": [\n",
      "            \"Crime\",\n",
      "            \"Drama\",\n",
      "            \"Mystery\",\n",
      "            \"Thriller\"\n",
      "        ],\n",
      "        \"actors\": [\n",
      "            \"Tom Cruise\"\n",
      "        ]\n",
      "    }\n",
      "}\n"
     ]
    }
   ],
   "source": [
    "response = table.query(\n",
    "    ProjectionExpression=\"#yr, title, info.genres, info.actors[0]\",\n",
    "    ExpressionAttributeNames={ \"#yr\": \"year\" }, # Expression Attribute Names for Projection Expression only.\n",
    "    KeyConditionExpression=Key('year').eq(1992) & Key('title').between('A', 'L')\n",
    ")\n",
    "\n",
    "print('Items found:', response['Count'], end='\\n'*2)\n",
    "print(json.dumps(response['Items'][0], indent=4, cls=DecimalEncoder))"
   ]
  },
  {
   "cell_type": "markdown",
   "metadata": {},
   "source": [
    "A [**projection expression**](http://docs.aws.amazon.com/amazondynamodb/latest/developerguide/Expressions.AccessingItemAttributes.html) is a string that identifies the attributes you want.\n",
    "\n",
    "**Note**<br>\n",
    "`\"year, title, info.genres, info.actors[0]\"` projection expression would be invalid because `YEAR` is a [reserved word](http://docs.aws.amazon.com/amazondynamodb/latest/developerguide/ReservedWords.html).\n",
    "To work around this, we define an *expression attribute name*. An expression attribute name is a placeholder that you use in the expression, as an alternative to the actual attribute name. An expression attribute name must begin with a #, followed by one alphabetic character, and then by zero or more alphanumeric characters."
   ]
  },
  {
   "cell_type": "markdown",
   "metadata": {},
   "source": [
    "### Step 4.2: Scan"
   ]
  },
  {
   "cell_type": "markdown",
   "metadata": {},
   "source": [
    "The scan method reads **every item** in the entire table, and returns *all of the data* in the table. You can provide an optional filter_expression, so that only the items matching your criteria are returned. However, note that the *filter is only applied after* the entire table has been scanned."
   ]
  },
  {
   "cell_type": "code",
   "execution_count": 65,
   "metadata": {
    "collapsed": false
   },
   "outputs": [
    {
     "data": {
      "text/plain": [
       "4609"
      ]
     },
     "execution_count": 65,
     "metadata": {},
     "output_type": "execute_result"
    }
   ],
   "source": [
    "table.item_count"
   ]
  },
  {
   "cell_type": "markdown",
   "metadata": {},
   "source": [
    "The code below scans the entire Movies table, which contains approximately 4,609 items. The scan specifies the optional filter to retrieve only the movies from the 1950s (approximately 100 items), and discard all of the others."
   ]
  },
  {
   "cell_type": "code",
   "execution_count": 70,
   "metadata": {
    "collapsed": false
   },
   "outputs": [
    {
     "name": "stdout",
     "output_type": "stream",
     "text": [
      "Count 19\n",
      "ScannedCount 2305\n",
      "{\n",
      "    \"title\": \"High Noon\",\n",
      "    \"year\": 1952,\n",
      "    \"info\": {\n",
      "        \"rating\": 8.2\n",
      "    }\n",
      "}\n"
     ]
    }
   ],
   "source": [
    "fe = Key('year').between(1950, 1959);\n",
    "pe = \"#yr, title, info.rating\"\n",
    "ean = { \"#yr\": \"year\", }  # Expression Attribute Names for Projection Expression only.\n",
    "\n",
    "\n",
    "response = table.scan(\n",
    "    FilterExpression=fe,\n",
    "    ProjectionExpression=pe,\n",
    "    ExpressionAttributeNames=ean\n",
    "    )\n",
    "\n",
    "print('Count', response['Count'])\n",
    "print('ScannedCount', response['ScannedCount'])\n",
    "\n",
    "print(json.dumps(response['Items'][0], indent=4, cls=DecimalEncoder))"
   ]
  },
  {
   "cell_type": "code",
   "execution_count": 67,
   "metadata": {
    "collapsed": false
   },
   "outputs": [
    {
     "data": {
      "text/plain": [
       "dict_keys(['LastEvaluatedKey', 'Count', 'ScannedCount', 'Items', 'ResponseMetadata'])"
      ]
     },
     "execution_count": 67,
     "metadata": {},
     "output_type": "execute_result"
    }
   ],
   "source": [
    "response.keys()"
   ]
  },
  {
   "cell_type": "code",
   "execution_count": 68,
   "metadata": {
    "collapsed": false,
    "scrolled": true
   },
   "outputs": [
    {
     "data": {
      "text/plain": [
       "{'title': 'Iron Man 2', 'year': Decimal('2010')}"
      ]
     },
     "execution_count": 68,
     "metadata": {},
     "output_type": "execute_result"
    }
   ],
   "source": [
    "response['LastEvaluatedKey']"
   ]
  },
  {
   "cell_type": "code",
   "execution_count": 71,
   "metadata": {
    "collapsed": false
   },
   "outputs": [
    {
     "name": "stdout",
     "output_type": "stream",
     "text": [
      "54 2304\n"
     ]
    }
   ],
   "source": [
    "while 'LastEvaluatedKey' in response:\n",
    "    response = table.scan(\n",
    "        ProjectionExpression=pe,\n",
    "        FilterExpression=fe,\n",
    "        ExpressionAttributeNames= ean,\n",
    "        ExclusiveStartKey=response['LastEvaluatedKey']\n",
    "        )\n",
    "    print(response['Count'], response['ScannedCount'])   "
   ]
  },
  {
   "cell_type": "code",
   "execution_count": 73,
   "metadata": {
    "collapsed": false,
    "scrolled": true
   },
   "outputs": [
    {
     "data": {
      "text/plain": [
       "dict_keys(['Count', 'ScannedCount', 'Items', 'ResponseMetadata'])"
      ]
     },
     "execution_count": 73,
     "metadata": {},
     "output_type": "execute_result"
    }
   ],
   "source": [
    "response.keys()"
   ]
  },
  {
   "cell_type": "code",
   "execution_count": 74,
   "metadata": {
    "collapsed": false
   },
   "outputs": [
    {
     "data": {
      "text/plain": [
       "{'HTTPStatusCode': 200, 'RequestId': 'bd1e2ffe-dd51-450c-987a-60f5136bebe2'}"
      ]
     },
     "execution_count": 74,
     "metadata": {},
     "output_type": "execute_result"
    }
   ],
   "source": [
    "response['ResponseMetadata']"
   ]
  },
  {
   "cell_type": "markdown",
   "metadata": {},
   "source": [
    "### Step 5: (Optional) Delete the Table"
   ]
  },
  {
   "cell_type": "code",
   "execution_count": 75,
   "metadata": {
    "collapsed": false
   },
   "outputs": [
    {
     "data": {
      "text/plain": [
       "{'ResponseMetadata': {'HTTPStatusCode': 200,\n",
       "  'RequestId': 'ec7dfed3-dedf-4ea9-97a3-57ed9e76ed92'},\n",
       " 'TableDescription': {'AttributeDefinitions': [{'AttributeName': 'year',\n",
       "    'AttributeType': 'N'},\n",
       "   {'AttributeName': 'title', 'AttributeType': 'S'}],\n",
       "  'CreationDateTime': datetime.datetime(2016, 2, 9, 11, 48, 22, 111000, tzinfo=tzlocal()),\n",
       "  'ItemCount': 4609,\n",
       "  'KeySchema': [{'AttributeName': 'year', 'KeyType': 'HASH'},\n",
       "   {'AttributeName': 'title', 'KeyType': 'RANGE'}],\n",
       "  'ProvisionedThroughput': {'LastDecreaseDateTime': datetime.datetime(1970, 1, 1, 0, 0, tzinfo=tzlocal()),\n",
       "   'LastIncreaseDateTime': datetime.datetime(1970, 1, 1, 0, 0, tzinfo=tzlocal()),\n",
       "   'NumberOfDecreasesToday': 0,\n",
       "   'ReadCapacityUnits': 10,\n",
       "   'WriteCapacityUnits': 10},\n",
       "  'TableArn': 'arn:aws:dynamodb:ddblocal:000000000000:table/Movies',\n",
       "  'TableName': 'Movies',\n",
       "  'TableSizeBytes': 2095746,\n",
       "  'TableStatus': 'ACTIVE'}}"
      ]
     },
     "execution_count": 75,
     "metadata": {},
     "output_type": "execute_result"
    }
   ],
   "source": [
    "table.delete()"
   ]
  }
 ],
 "metadata": {
  "kernelspec": {
   "display_name": "Python 3",
   "language": "python",
   "name": "python3"
  },
  "language_info": {
   "codemirror_mode": {
    "name": "ipython",
    "version": 3
   },
   "file_extension": ".py",
   "mimetype": "text/x-python",
   "name": "python",
   "nbconvert_exporter": "python",
   "pygments_lexer": "ipython3",
   "version": "3.5.1"
  }
 },
 "nbformat": 4,
 "nbformat_minor": 0
}
